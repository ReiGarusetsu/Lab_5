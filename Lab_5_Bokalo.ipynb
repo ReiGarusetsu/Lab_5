{
 "cells": [
  {
   "cell_type": "markdown",
   "id": "d37131e9",
   "metadata": {},
   "source": [
    "# Лабораторна робота 5\n",
    "\n",
    "## Гайана\n",
    "\n",
    "[**Гайана**](https://uk.wikipedia.org/wiki/Гаяна) - держава в Південній Америці, омивається на півночі Атлантичним океаном, межує на сході із Суринамом, півдні та південному сході з Бразилією, північному заході з Венесуелою. Площа країни *214 969 км²*. Столиця і найбільше місто — **Джорджтаун**. Офіційна мова — <div style=\"color:red\">англійська</div>. На південноамериканському материку Гаяна — єдина англомовна країна і єдиний член британської Співдружності націй.\n",
    "\n",
    "| Гайана  | Guyana  |  \n",
    "|-------------|----------|\n",
    "| Популяція   | 801 194  |  \n",
    "| Форма правління   |  Парламентсько-президентська республіка | \n",
    "\n",
    "[Схил гори Рорайми](https://uk.wikipedia.org/wiki/Гаяна#/media/Файл:Roraima-Tepui_Wand.jpg)\n"
   ]
  },
  {
   "cell_type": "code",
   "execution_count": 9,
   "id": "b1622a1b",
   "metadata": {},
   "outputs": [
    {
     "name": "stdout",
     "output_type": "stream",
     "text": [
      "Введіть список цілих чисел, розділених пробілами: 6 9 3 5 6\n",
      "Середній елемент: 6\n"
     ]
    }
   ],
   "source": [
    "numbers = input(\"Введіть список цілих чисел, розділених пробілами: \").split()\n",
    "numbers = [int(num) for num in numbers]\n",
    "\n",
    "sorted_numbers = sorted(numbers) \n",
    "\n",
    "middle_index = len(sorted_numbers) // 2 \n",
    "\n",
    "if len(sorted_numbers) % 2 == 1:\n",
    "    middle_element = sorted_numbers[middle_index]\n",
    "    print(\"Середній елемент:\", middle_element)\n",
    "else:\n",
    "    middle_elements = (sorted_numbers[middle_index - 1], sorted_numbers[middle_index])\n",
    "    print(\"Середні елементи:\", middle_elements)"
   ]
  },
  {
   "cell_type": "code",
   "execution_count": null,
   "id": "37c4a1e7",
   "metadata": {},
   "outputs": [],
   "source": []
  }
 ],
 "metadata": {
  "kernelspec": {
   "display_name": "Python 3 (ipykernel)",
   "language": "python",
   "name": "python3"
  },
  "language_info": {
   "codemirror_mode": {
    "name": "ipython",
    "version": 3
   },
   "file_extension": ".py",
   "mimetype": "text/x-python",
   "name": "python",
   "nbconvert_exporter": "python",
   "pygments_lexer": "ipython3",
   "version": "3.10.9"
  }
 },
 "nbformat": 4,
 "nbformat_minor": 5
}
